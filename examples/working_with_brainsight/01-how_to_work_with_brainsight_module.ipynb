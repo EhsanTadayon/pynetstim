{
 "cells": [
  {
   "cell_type": "markdown",
   "metadata": {},
   "source": [
    "# Working with brainsight module"
   ]
  },
  {
   "cell_type": "code",
   "execution_count": 43,
   "metadata": {},
   "outputs": [],
   "source": [
    "from pynetstim.brainsight import BrainsightProject, chunk_samples, plot_chunks\n",
    "from pynetstim.plotting import plotting_points\n",
    "from pynetstim.coordinates import FreesurferCoords\n",
    "from pynetstim.freesurfer_files import Surf\n",
    "import numpy as np\n",
    "import matplotlib.pyplot as plt\n",
    "%matplotlib inline\n",
    "import os"
   ]
  },
  {
   "cell_type": "markdown",
   "metadata": {},
   "source": [
    "## Brainsight project"
   ]
  },
  {
   "cell_type": "code",
   "execution_count": 2,
   "metadata": {},
   "outputs": [
    {
     "name": "stdout",
     "output_type": "stream",
     "text": [
      "Target\n",
      "Sample\n",
      "Electrode\n",
      "Planned\n",
      "Session\n"
     ]
    }
   ],
   "source": [
    "subject = 'example_subject'\n",
    "base_dir = os.path.abspath('./data/example_data')\n",
    "freesurfer_dir = os.path.join(base_dir,'freesurfer')\n",
    "project_dir = os.path.join(base_dir,'pynetstim_output')\n",
    "brainsight_file = os.path.join(base_dir, 'brainsight_raw/brainsight.txt'.format(subject=subject))\n",
    "\n",
    "project = BrainsightProject(subject, freesurfer_dir = freesurfer_dir,\n",
    "                      project_dir= project_dir, \n",
    "                      brainsight_file = brainsight_file)\n",
    "\n",
    "#project.summary(plot_pulses=True,overwrite=True,heightpx=250,widthpx=900)"
   ]
  },
  {
   "cell_type": "markdown",
   "metadata": {},
   "source": [
    "#### samples and targets"
   ]
  },
  {
   "cell_type": "code",
   "execution_count": 27,
   "metadata": {},
   "outputs": [],
   "source": [
    "targets = project.brainsight_targets.to_freesurfer_coords()"
   ]
  },
  {
   "cell_type": "code",
   "execution_count": 28,
   "metadata": {},
   "outputs": [
    {
     "data": {
      "text/html": [
       "<div>\n",
       "<style scoped>\n",
       "    .dataframe tbody tr th:only-of-type {\n",
       "        vertical-align: middle;\n",
       "    }\n",
       "\n",
       "    .dataframe tbody tr th {\n",
       "        vertical-align: top;\n",
       "    }\n",
       "\n",
       "    .dataframe thead th {\n",
       "        text-align: right;\n",
       "    }\n",
       "</style>\n",
       "<table border=\"1\" class=\"dataframe\">\n",
       "  <thead>\n",
       "    <tr style=\"text-align: right;\">\n",
       "      <th></th>\n",
       "      <th>ras_coord_X</th>\n",
       "      <th>ras_coord_Y</th>\n",
       "      <th>ras_coord_Z</th>\n",
       "      <th>voxel_coord_X</th>\n",
       "      <th>voxel_coord_Y</th>\n",
       "      <th>voxel_coord_Z</th>\n",
       "      <th>ras_tkr_coord_X</th>\n",
       "      <th>ras_tkr_coord_Y</th>\n",
       "      <th>ras_tkr_coord_Z</th>\n",
       "      <th>fsvoxel_coord_X</th>\n",
       "      <th>fsvoxel_coord_Y</th>\n",
       "      <th>fsvoxel_coord_Z</th>\n",
       "      <th>talairach_coord_X</th>\n",
       "      <th>talairach_coord_Y</th>\n",
       "      <th>talairach_coord_Z</th>\n",
       "    </tr>\n",
       "  </thead>\n",
       "  <tbody>\n",
       "    <tr>\n",
       "      <th>L_LDLPFC</th>\n",
       "      <td>-22.315</td>\n",
       "      <td>55.8</td>\n",
       "      <td>60.261</td>\n",
       "      <td>151.0</td>\n",
       "      <td>80.0</td>\n",
       "      <td>108.0</td>\n",
       "      <td>-21.845998</td>\n",
       "      <td>45.13902</td>\n",
       "      <td>24.607191</td>\n",
       "      <td>150.0</td>\n",
       "      <td>103.0</td>\n",
       "      <td>173.0</td>\n",
       "      <td>-29.165642</td>\n",
       "      <td>30.586567</td>\n",
       "      <td>47.898679</td>\n",
       "    </tr>\n",
       "  </tbody>\n",
       "</table>\n",
       "</div>"
      ],
      "text/plain": [
       "          ras_coord_X  ras_coord_Y  ras_coord_Z  voxel_coord_X  voxel_coord_Y  \\\n",
       "L_LDLPFC      -22.315         55.8       60.261          151.0           80.0   \n",
       "\n",
       "          voxel_coord_Z  ras_tkr_coord_X  ras_tkr_coord_Y  ras_tkr_coord_Z  \\\n",
       "L_LDLPFC          108.0       -21.845998         45.13902        24.607191   \n",
       "\n",
       "          fsvoxel_coord_X  fsvoxel_coord_Y  fsvoxel_coord_Z  \\\n",
       "L_LDLPFC            150.0            103.0            173.0   \n",
       "\n",
       "          talairach_coord_X  talairach_coord_Y  talairach_coord_Z  \n",
       "L_LDLPFC         -29.165642          30.586567          47.898679  "
      ]
     },
     "execution_count": 28,
     "metadata": {},
     "output_type": "execute_result"
    }
   ],
   "source": [
    "coords_df = targets.get_coords_df(subset_by='name',subset_vals=['L_LDLPFC'])\n",
    "coords_df.head()"
   ]
  },
  {
   "cell_type": "code",
   "execution_count": 29,
   "metadata": {},
   "outputs": [
    {
     "data": {
      "text/html": [
       "<div>\n",
       "<style scoped>\n",
       "    .dataframe tbody tr th:only-of-type {\n",
       "        vertical-align: middle;\n",
       "    }\n",
       "\n",
       "    .dataframe tbody tr th {\n",
       "        vertical-align: top;\n",
       "    }\n",
       "\n",
       "    .dataframe thead th {\n",
       "        text-align: right;\n",
       "    }\n",
       "</style>\n",
       "<table border=\"1\" class=\"dataframe\">\n",
       "  <thead>\n",
       "    <tr style=\"text-align: right;\">\n",
       "      <th></th>\n",
       "      <th>sample_name</th>\n",
       "      <th>session_name</th>\n",
       "      <th>index</th>\n",
       "      <th>assoc_target</th>\n",
       "      <th>loc_x</th>\n",
       "      <th>loc_y</th>\n",
       "      <th>loc_z</th>\n",
       "      <th>m0n0</th>\n",
       "      <th>m0n1</th>\n",
       "      <th>m0n2</th>\n",
       "      <th>...</th>\n",
       "      <th>angular_error</th>\n",
       "      <th>twist_error</th>\n",
       "      <th>stim_power</th>\n",
       "      <th>date</th>\n",
       "      <th>time</th>\n",
       "      <th>creation_cause</th>\n",
       "      <th>crosshairs_driver</th>\n",
       "      <th>offset</th>\n",
       "      <th>comment</th>\n",
       "      <th>emg_channels</th>\n",
       "    </tr>\n",
       "  </thead>\n",
       "  <tbody>\n",
       "    <tr>\n",
       "      <th>259</th>\n",
       "      <td>Sample 260</td>\n",
       "      <td>Session 1</td>\n",
       "      <td>260</td>\n",
       "      <td>L_LDLPFC</td>\n",
       "      <td>-31.195</td>\n",
       "      <td>74.984</td>\n",
       "      <td>82.306</td>\n",
       "      <td>0.174</td>\n",
       "      <td>-0.699</td>\n",
       "      <td>0.693</td>\n",
       "      <td>...</td>\n",
       "      <td>3.693</td>\n",
       "      <td>1.938</td>\n",
       "      <td>(null)</td>\n",
       "      <td>2018-07-27</td>\n",
       "      <td>15:47:06.277</td>\n",
       "      <td>TTL2</td>\n",
       "      <td>Snazzy Coil</td>\n",
       "      <td>0.0</td>\n",
       "      <td>(null)</td>\n",
       "      <td>(null)</td>\n",
       "    </tr>\n",
       "    <tr>\n",
       "      <th>260</th>\n",
       "      <td>Sample 261</td>\n",
       "      <td>Session 1</td>\n",
       "      <td>261</td>\n",
       "      <td>L_LDLPFC</td>\n",
       "      <td>-30.516</td>\n",
       "      <td>74.276</td>\n",
       "      <td>82.199</td>\n",
       "      <td>0.222</td>\n",
       "      <td>-0.684</td>\n",
       "      <td>0.695</td>\n",
       "      <td>...</td>\n",
       "      <td>2.001</td>\n",
       "      <td>4.793</td>\n",
       "      <td>(null)</td>\n",
       "      <td>2018-07-27</td>\n",
       "      <td>15:47:11.310</td>\n",
       "      <td>TTL2</td>\n",
       "      <td>Snazzy Coil</td>\n",
       "      <td>0.0</td>\n",
       "      <td>(null)</td>\n",
       "      <td>(null)</td>\n",
       "    </tr>\n",
       "    <tr>\n",
       "      <th>261</th>\n",
       "      <td>Sample 262</td>\n",
       "      <td>Session 1</td>\n",
       "      <td>262</td>\n",
       "      <td>L_LDLPFC</td>\n",
       "      <td>-31.645</td>\n",
       "      <td>73.941</td>\n",
       "      <td>82.070</td>\n",
       "      <td>0.251</td>\n",
       "      <td>-0.677</td>\n",
       "      <td>0.692</td>\n",
       "      <td>...</td>\n",
       "      <td>1.623</td>\n",
       "      <td>6.459</td>\n",
       "      <td>(null)</td>\n",
       "      <td>2018-07-27</td>\n",
       "      <td>15:47:15.357</td>\n",
       "      <td>TTL2</td>\n",
       "      <td>Snazzy Coil</td>\n",
       "      <td>0.0</td>\n",
       "      <td>(null)</td>\n",
       "      <td>(null)</td>\n",
       "    </tr>\n",
       "    <tr>\n",
       "      <th>262</th>\n",
       "      <td>Sample 263</td>\n",
       "      <td>Session 1</td>\n",
       "      <td>263</td>\n",
       "      <td>L_LDLPFC</td>\n",
       "      <td>-30.878</td>\n",
       "      <td>74.808</td>\n",
       "      <td>82.116</td>\n",
       "      <td>0.200</td>\n",
       "      <td>-0.715</td>\n",
       "      <td>0.669</td>\n",
       "      <td>...</td>\n",
       "      <td>0.253</td>\n",
       "      <td>2.851</td>\n",
       "      <td>(null)</td>\n",
       "      <td>2018-07-27</td>\n",
       "      <td>15:47:18.387</td>\n",
       "      <td>TTL2</td>\n",
       "      <td>Snazzy Coil</td>\n",
       "      <td>0.0</td>\n",
       "      <td>(null)</td>\n",
       "      <td>(null)</td>\n",
       "    </tr>\n",
       "    <tr>\n",
       "      <th>263</th>\n",
       "      <td>Sample 264</td>\n",
       "      <td>Session 1</td>\n",
       "      <td>264</td>\n",
       "      <td>L_LDLPFC</td>\n",
       "      <td>-32.253</td>\n",
       "      <td>73.811</td>\n",
       "      <td>82.819</td>\n",
       "      <td>0.192</td>\n",
       "      <td>-0.730</td>\n",
       "      <td>0.656</td>\n",
       "      <td>...</td>\n",
       "      <td>0.877</td>\n",
       "      <td>2.035</td>\n",
       "      <td>(null)</td>\n",
       "      <td>2018-07-27</td>\n",
       "      <td>15:47:21.432</td>\n",
       "      <td>TTL2</td>\n",
       "      <td>Snazzy Coil</td>\n",
       "      <td>0.0</td>\n",
       "      <td>(null)</td>\n",
       "      <td>(null)</td>\n",
       "    </tr>\n",
       "  </tbody>\n",
       "</table>\n",
       "<p>5 rows × 28 columns</p>\n",
       "</div>"
      ],
      "text/plain": [
       "    sample_name session_name  index assoc_target   loc_x   loc_y   loc_z  \\\n",
       "259  Sample 260    Session 1    260     L_LDLPFC -31.195  74.984  82.306   \n",
       "260  Sample 261    Session 1    261     L_LDLPFC -30.516  74.276  82.199   \n",
       "261  Sample 262    Session 1    262     L_LDLPFC -31.645  73.941  82.070   \n",
       "262  Sample 263    Session 1    263     L_LDLPFC -30.878  74.808  82.116   \n",
       "263  Sample 264    Session 1    264     L_LDLPFC -32.253  73.811  82.819   \n",
       "\n",
       "      m0n0   m0n1   m0n2  ...  angular_error  twist_error  stim_power  \\\n",
       "259  0.174 -0.699  0.693  ...          3.693        1.938      (null)   \n",
       "260  0.222 -0.684  0.695  ...          2.001        4.793      (null)   \n",
       "261  0.251 -0.677  0.692  ...          1.623        6.459      (null)   \n",
       "262  0.200 -0.715  0.669  ...          0.253        2.851      (null)   \n",
       "263  0.192 -0.730  0.656  ...          0.877        2.035      (null)   \n",
       "\n",
       "           date          time  creation_cause  crosshairs_driver  offset  \\\n",
       "259  2018-07-27  15:47:06.277            TTL2        Snazzy Coil     0.0   \n",
       "260  2018-07-27  15:47:11.310            TTL2        Snazzy Coil     0.0   \n",
       "261  2018-07-27  15:47:15.357            TTL2        Snazzy Coil     0.0   \n",
       "262  2018-07-27  15:47:18.387            TTL2        Snazzy Coil     0.0   \n",
       "263  2018-07-27  15:47:21.432            TTL2        Snazzy Coil     0.0   \n",
       "\n",
       "     comment  emg_channels  \n",
       "259   (null)        (null)  \n",
       "260   (null)        (null)  \n",
       "261   (null)        (null)  \n",
       "262   (null)        (null)  \n",
       "263   (null)        (null)  \n",
       "\n",
       "[5 rows x 28 columns]"
      ]
     },
     "execution_count": 29,
     "metadata": {},
     "output_type": "execute_result"
    }
   ],
   "source": [
    "### getting samples\n",
    "stim_samples = samples.get_target_stims('L_LDLPFC')\n",
    "stim_samples.head()"
   ]
  },
  {
   "cell_type": "code",
   "execution_count": 42,
   "metadata": {},
   "outputs": [
    {
     "data": {
      "text/plain": [
       "Text(0, 0.5, 'Stim Target Error')"
      ]
     },
     "execution_count": 42,
     "metadata": {},
     "output_type": "execute_result"
    },
    {
     "data": {
      "image/png": "[encoded data removed]",
      "text/plain": [
       "<Figure size 432x288 with 1 Axes>"
      ]
     },
     "metadata": {
      "needs_background": "light"
     },
     "output_type": "display_data"
    }
   ],
   "source": [
    "### plotting samples target errors\n",
    "fig,ax = plt.subplots()\n",
    "ax.plot(stim_samples.target_error,'*-')\n",
    "ax.set_xlabel('Stimulation Pulse')\n",
    "ax.set_ylabel('Stim Target Error')"
   ]
  },
  {
   "cell_type": "markdown",
   "metadata": {},
   "source": [
    "As the jumps in the plot shows, LDLPFC has been stimulated at different sessions. We can chunk the samples. "
   ]
  },
  {
   "cell_type": "code",
   "execution_count": 44,
   "metadata": {},
   "outputs": [
    {
     "name": "stdout",
     "output_type": "stream",
     "text": [
      "[0, 150, 156, 456, 555, 613, 668, 705, 706, 716, 778, 838, 890, 948, 1008, 1085, 1157]\n"
     ]
    },
    {
     "data": {
      "text/plain": [
       "(<Figure size 576x432 with 1 Axes>,\n",
       " <matplotlib.axes._subplots.AxesSubplot at 0x14ce30160>)"
      ]
     },
     "execution_count": 44,
     "metadata": {},
     "output_type": "execute_result"
    },
    {
     "data": {
      "image/png": "[encoded data removed]",
      "text/plain": [
       "<Figure size 576x432 with 1 Axes>"
      ]
     },
     "metadata": {
      "needs_background": "light"
     },
     "output_type": "display_data"
    }
   ],
   "source": [
    "chunks = chunk_samples(stim_samples, thr=50)\n",
    "plot_chunks(chunks)"
   ]
  },
  {
   "cell_type": "code",
   "execution_count": 45,
   "metadata": {},
   "outputs": [
    {
     "data": {
      "text/html": [
       "<div>\n",
       "<style scoped>\n",
       "    .dataframe tbody tr th:only-of-type {\n",
       "        vertical-align: middle;\n",
       "    }\n",
       "\n",
       "    .dataframe tbody tr th {\n",
       "        vertical-align: top;\n",
       "    }\n",
       "\n",
       "    .dataframe thead th {\n",
       "        text-align: right;\n",
       "    }\n",
       "</style>\n",
       "<table border=\"1\" class=\"dataframe\">\n",
       "  <thead>\n",
       "    <tr style=\"text-align: right;\">\n",
       "      <th></th>\n",
       "      <th>sample_name</th>\n",
       "      <th>session_name</th>\n",
       "      <th>index</th>\n",
       "      <th>assoc_target</th>\n",
       "      <th>loc_x</th>\n",
       "      <th>loc_y</th>\n",
       "      <th>loc_z</th>\n",
       "      <th>m0n0</th>\n",
       "      <th>m0n1</th>\n",
       "      <th>m0n2</th>\n",
       "      <th>...</th>\n",
       "      <th>angular_error</th>\n",
       "      <th>twist_error</th>\n",
       "      <th>stim_power</th>\n",
       "      <th>date</th>\n",
       "      <th>time</th>\n",
       "      <th>creation_cause</th>\n",
       "      <th>crosshairs_driver</th>\n",
       "      <th>offset</th>\n",
       "      <th>comment</th>\n",
       "      <th>emg_channels</th>\n",
       "    </tr>\n",
       "  </thead>\n",
       "  <tbody>\n",
       "    <tr>\n",
       "      <th>409</th>\n",
       "      <td>Sample 410</td>\n",
       "      <td>Session 1</td>\n",
       "      <td>410</td>\n",
       "      <td>L_LDLPFC</td>\n",
       "      <td>-176.849</td>\n",
       "      <td>138.802</td>\n",
       "      <td>278.08</td>\n",
       "      <td>0.57</td>\n",
       "      <td>-0.59</td>\n",
       "      <td>0.572</td>\n",
       "      <td>...</td>\n",
       "      <td>44.251</td>\n",
       "      <td>31.763</td>\n",
       "      <td>(null)</td>\n",
       "      <td>2018-07-27</td>\n",
       "      <td>15:59:13.023</td>\n",
       "      <td>TTL2</td>\n",
       "      <td>Snazzy Coil</td>\n",
       "      <td>0.0</td>\n",
       "      <td>(null)</td>\n",
       "      <td>(null)</td>\n",
       "    </tr>\n",
       "    <tr>\n",
       "      <th>410</th>\n",
       "      <td>Sample 411</td>\n",
       "      <td>Session 1</td>\n",
       "      <td>411</td>\n",
       "      <td>L_LDLPFC</td>\n",
       "      <td>-176.849</td>\n",
       "      <td>138.802</td>\n",
       "      <td>278.08</td>\n",
       "      <td>0.57</td>\n",
       "      <td>-0.59</td>\n",
       "      <td>0.572</td>\n",
       "      <td>...</td>\n",
       "      <td>44.251</td>\n",
       "      <td>31.763</td>\n",
       "      <td>(null)</td>\n",
       "      <td>2018-07-27</td>\n",
       "      <td>15:59:13.134</td>\n",
       "      <td>TTL2</td>\n",
       "      <td>Snazzy Coil</td>\n",
       "      <td>0.0</td>\n",
       "      <td>(null)</td>\n",
       "      <td>(null)</td>\n",
       "    </tr>\n",
       "    <tr>\n",
       "      <th>411</th>\n",
       "      <td>Sample 412</td>\n",
       "      <td>Session 1</td>\n",
       "      <td>412</td>\n",
       "      <td>L_LDLPFC</td>\n",
       "      <td>-176.849</td>\n",
       "      <td>138.802</td>\n",
       "      <td>278.08</td>\n",
       "      <td>0.57</td>\n",
       "      <td>-0.59</td>\n",
       "      <td>0.572</td>\n",
       "      <td>...</td>\n",
       "      <td>44.251</td>\n",
       "      <td>31.763</td>\n",
       "      <td>(null)</td>\n",
       "      <td>2018-07-27</td>\n",
       "      <td>15:59:36.658</td>\n",
       "      <td>TTL2</td>\n",
       "      <td>Snazzy Coil</td>\n",
       "      <td>0.0</td>\n",
       "      <td>(null)</td>\n",
       "      <td>(null)</td>\n",
       "    </tr>\n",
       "    <tr>\n",
       "      <th>412</th>\n",
       "      <td>Sample 413</td>\n",
       "      <td>Session 1</td>\n",
       "      <td>413</td>\n",
       "      <td>L_LDLPFC</td>\n",
       "      <td>-176.849</td>\n",
       "      <td>138.802</td>\n",
       "      <td>278.08</td>\n",
       "      <td>0.57</td>\n",
       "      <td>-0.59</td>\n",
       "      <td>0.572</td>\n",
       "      <td>...</td>\n",
       "      <td>44.251</td>\n",
       "      <td>31.763</td>\n",
       "      <td>(null)</td>\n",
       "      <td>2018-07-27</td>\n",
       "      <td>15:59:36.769</td>\n",
       "      <td>TTL2</td>\n",
       "      <td>Snazzy Coil</td>\n",
       "      <td>0.0</td>\n",
       "      <td>(null)</td>\n",
       "      <td>(null)</td>\n",
       "    </tr>\n",
       "    <tr>\n",
       "      <th>413</th>\n",
       "      <td>Sample 414</td>\n",
       "      <td>Session 1</td>\n",
       "      <td>414</td>\n",
       "      <td>L_LDLPFC</td>\n",
       "      <td>-176.849</td>\n",
       "      <td>138.802</td>\n",
       "      <td>278.08</td>\n",
       "      <td>0.57</td>\n",
       "      <td>-0.59</td>\n",
       "      <td>0.572</td>\n",
       "      <td>...</td>\n",
       "      <td>44.251</td>\n",
       "      <td>31.763</td>\n",
       "      <td>(null)</td>\n",
       "      <td>2018-07-27</td>\n",
       "      <td>15:59:40.760</td>\n",
       "      <td>TTL2</td>\n",
       "      <td>Snazzy Coil</td>\n",
       "      <td>0.0</td>\n",
       "      <td>(null)</td>\n",
       "      <td>(null)</td>\n",
       "    </tr>\n",
       "    <tr>\n",
       "      <th>414</th>\n",
       "      <td>Sample 415</td>\n",
       "      <td>Session 1</td>\n",
       "      <td>415</td>\n",
       "      <td>L_LDLPFC</td>\n",
       "      <td>-176.849</td>\n",
       "      <td>138.802</td>\n",
       "      <td>278.08</td>\n",
       "      <td>0.57</td>\n",
       "      <td>-0.59</td>\n",
       "      <td>0.572</td>\n",
       "      <td>...</td>\n",
       "      <td>44.251</td>\n",
       "      <td>31.763</td>\n",
       "      <td>(null)</td>\n",
       "      <td>2018-07-27</td>\n",
       "      <td>15:59:40.857</td>\n",
       "      <td>TTL2</td>\n",
       "      <td>Snazzy Coil</td>\n",
       "      <td>0.0</td>\n",
       "      <td>(null)</td>\n",
       "      <td>(null)</td>\n",
       "    </tr>\n",
       "  </tbody>\n",
       "</table>\n",
       "<p>6 rows × 28 columns</p>\n",
       "</div>"
      ],
      "text/plain": [
       "    sample_name session_name  index assoc_target    loc_x    loc_y   loc_z  \\\n",
       "409  Sample 410    Session 1    410     L_LDLPFC -176.849  138.802  278.08   \n",
       "410  Sample 411    Session 1    411     L_LDLPFC -176.849  138.802  278.08   \n",
       "411  Sample 412    Session 1    412     L_LDLPFC -176.849  138.802  278.08   \n",
       "412  Sample 413    Session 1    413     L_LDLPFC -176.849  138.802  278.08   \n",
       "413  Sample 414    Session 1    414     L_LDLPFC -176.849  138.802  278.08   \n",
       "414  Sample 415    Session 1    415     L_LDLPFC -176.849  138.802  278.08   \n",
       "\n",
       "     m0n0  m0n1   m0n2  ...  angular_error  twist_error  stim_power  \\\n",
       "409  0.57 -0.59  0.572  ...         44.251       31.763      (null)   \n",
       "410  0.57 -0.59  0.572  ...         44.251       31.763      (null)   \n",
       "411  0.57 -0.59  0.572  ...         44.251       31.763      (null)   \n",
       "412  0.57 -0.59  0.572  ...         44.251       31.763      (null)   \n",
       "413  0.57 -0.59  0.572  ...         44.251       31.763      (null)   \n",
       "414  0.57 -0.59  0.572  ...         44.251       31.763      (null)   \n",
       "\n",
       "           date          time  creation_cause  crosshairs_driver  offset  \\\n",
       "409  2018-07-27  15:59:13.023            TTL2        Snazzy Coil     0.0   \n",
       "410  2018-07-27  15:59:13.134            TTL2        Snazzy Coil     0.0   \n",
       "411  2018-07-27  15:59:36.658            TTL2        Snazzy Coil     0.0   \n",
       "412  2018-07-27  15:59:36.769            TTL2        Snazzy Coil     0.0   \n",
       "413  2018-07-27  15:59:40.760            TTL2        Snazzy Coil     0.0   \n",
       "414  2018-07-27  15:59:40.857            TTL2        Snazzy Coil     0.0   \n",
       "\n",
       "     comment  emg_channels  \n",
       "409   (null)        (null)  \n",
       "410   (null)        (null)  \n",
       "411   (null)        (null)  \n",
       "412   (null)        (null)  \n",
       "413   (null)        (null)  \n",
       "414   (null)        (null)  \n",
       "\n",
       "[6 rows x 28 columns]"
      ]
     },
     "execution_count": 45,
     "metadata": {},
     "output_type": "execute_result"
    }
   ],
   "source": [
    "chunks[2]"
   ]
  },
  {
   "cell_type": "markdown",
   "metadata": {},
   "source": [
    "## visualization of stimulations"
   ]
  },
  {
   "cell_type": "code",
   "execution_count": 32,
   "metadata": {},
   "outputs": [
    {
     "data": {
      "text/plain": [
       "array(['L_LDLPFC', 'L_IPL', 'M1', 'V1_M1_1', 'V1_M1_2', 'V1_M1_3',\n",
       "       'V1_M1_4', 'V1_M1_5', 'L_IPL_1', 'V1_M1_6', 'R_DLPFC', 'R_OCC',\n",
       "       'V2_M1_1', 'V2_M1_2', 'F_OCC', 'F_RDLPFC', 'I_DAN', 'I_DMN',\n",
       "       'C_DAN', 'C_DMN', 'ICA-DAN', 'ICA-DMN', 'V3_M1_1', 'v3_M1_2',\n",
       "       'V4_m1_1', 'v4_m1_2', 'v4_m1_3', 'v4_m1_4', 'v4_m1_5', 'V5_M1_1',\n",
       "       'V5_M1_2', 'V5_M1_3', 'V5_M1_4', 'V5_M1_5', 'V6_m1_1', 'V6_m1_2'],\n",
       "      dtype=object)"
      ]
     },
     "execution_count": 32,
     "metadata": {},
     "output_type": "execute_result"
    }
   ],
   "source": [
    "targets.name"
   ]
  },
  {
   "cell_type": "code",
   "execution_count": 35,
   "metadata": {},
   "outputs": [],
   "source": [
    "names_to_plot = ['L_LDLPFC','L_IPL','M1','C_DMN']\n",
    "\n",
    "### subseting targets based on name \n",
    "targets_to_plot = targets.subset('name',names_to_plot)"
   ]
  },
  {
   "cell_type": "code",
   "execution_count": 36,
   "metadata": {},
   "outputs": [
    {
     "name": "stdout",
     "output_type": "stream",
     "text": [
      "head model exists!\n"
     ]
    }
   ],
   "source": [
    "p = plotting_points(targets_to_plot,hemi='both',surf='white',\n",
    "                show_roi=True,show_name=True,scale_factor=1,name_scale=4,\n",
    "                opacity=1,annot='Yeo2011_7Networks_N1000',show_directions=True)\n",
    "\n",
    "\n",
    "p.brain.save_imageset('sample_',views=['dor','med','lat'])\n",
    "p.show()"
   ]
  },
  {
   "cell_type": "markdown",
   "metadata": {},
   "source": [
    "![title](sample__dor.png)"
   ]
  }
 ],
 "metadata": {
  "hide_input": false,
  "kernelspec": {
   "display_name": "Python 3",
   "language": "python",
   "name": "python3"
  },
  "language_info": {
   "codemirror_mode": {
    "name": "ipython",
    "version": 3
   },
   "file_extension": ".py",
   "mimetype": "text/x-python",
   "name": "python",
   "nbconvert_exporter": "python",
   "pygments_lexer": "ipython3",
   "version": "3.6.9"
  },
  "latex_envs": {
   "LaTeX_envs_menu_present": true,
   "autoclose": false,
   "autocomplete": true,
   "bibliofile": "biblio.bib",
   "cite_by": "apalike",
   "current_citInitial": 1,
   "eqLabelWithNumbers": true,
   "eqNumInitial": 1,
   "hotkeys": {
    "equation": "Ctrl-E",
    "itemize": "Ctrl-I"
   },
   "labels_anchors": false,
   "latex_user_defs": false,
   "report_style_numbering": false,
   "user_envs_cfg": false
  },
  "toc": {
   "base_numbering": 1,
   "nav_menu": {},
   "number_sections": true,
   "sideBar": true,
   "skip_h1_title": false,
   "title_cell": "Table of Contents",
   "title_sidebar": "Contents",
   "toc_cell": false,
   "toc_position": {},
   "toc_section_display": true,
   "toc_window_display": true
  }
 },
 "nbformat": 4,
 "nbformat_minor": 4
}
