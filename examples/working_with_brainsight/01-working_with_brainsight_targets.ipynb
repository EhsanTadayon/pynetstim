{
 "cells": [
  {
   "cell_type": "markdown",
   "metadata": {},
   "source": [
    "# Working with brainsgiht targets"
   ]
  },
  {
   "cell_type": "code",
   "execution_count": 14,
   "metadata": {},
   "outputs": [],
   "source": [
    "from pynetstim.brainsight import BrainsightProject\n",
    "from pynetstim.plotting import plotting_points\n",
    "from pynetstim.coordinates import FreesurferCoords\n",
    "import numpy as np\n",
    "import os"
   ]
  },
  {
   "cell_type": "markdown",
   "metadata": {},
   "source": [
    "## Brainsight project"
   ]
  },
  {
   "cell_type": "code",
   "execution_count": 9,
   "metadata": {},
   "outputs": [
    {
     "name": "stdout",
     "output_type": "stream",
     "text": [
      "Target\n",
      "Sample\n",
      "Electrode\n",
      "Planned\n",
      "Session\n"
     ]
    }
   ],
   "source": [
    "subject = 'example_subject'\n",
    "base_dir = os.path.abspath('./data/example_data')\n",
    "freesurfer_dir = os.path.join(base_dir,'freesurfer')\n",
    "project_dir = os.path.join(base_dir,'pynetstim_output')\n",
    "brainsight_file = os.path.join(base_dir, 'brainsight_raw/brainsight.txt'.format(subject=subject))\n",
    "\n",
    "project = BrainsightProject(subject, freesurfer_dir = freesurfer_dir,\n",
    "                      project_dir= project_dir, \n",
    "                      brainsight_file = brainsight_file)\n",
    "\n",
    "#project.summary(plot_pulses=True,overwrite=True,heightpx=250,widthpx=900)"
   ]
  },
  {
   "cell_type": "markdown",
   "metadata": {},
   "source": [
    "#### targets"
   ]
  },
  {
   "cell_type": "code",
   "execution_count": 10,
   "metadata": {},
   "outputs": [],
   "source": [
    "targets = project.brainsight_targets.to_freesurfer_coords()"
   ]
  },
  {
   "cell_type": "code",
   "execution_count": 11,
   "metadata": {},
   "outputs": [
    {
     "data": {
      "text/html": [
       "<div>\n",
       "<style scoped>\n",
       "    .dataframe tbody tr th:only-of-type {\n",
       "        vertical-align: middle;\n",
       "    }\n",
       "\n",
       "    .dataframe tbody tr th {\n",
       "        vertical-align: top;\n",
       "    }\n",
       "\n",
       "    .dataframe thead th {\n",
       "        text-align: right;\n",
       "    }\n",
       "</style>\n",
       "<table border=\"1\" class=\"dataframe\">\n",
       "  <thead>\n",
       "    <tr style=\"text-align: right;\">\n",
       "      <th></th>\n",
       "      <th>ras_coord_X</th>\n",
       "      <th>ras_coord_Y</th>\n",
       "      <th>ras_coord_Z</th>\n",
       "      <th>voxel_coord_X</th>\n",
       "      <th>voxel_coord_Y</th>\n",
       "      <th>voxel_coord_Z</th>\n",
       "      <th>ras_tkr_coord_X</th>\n",
       "      <th>ras_tkr_coord_Y</th>\n",
       "      <th>ras_tkr_coord_Z</th>\n",
       "      <th>fsvoxel_coord_X</th>\n",
       "      <th>fsvoxel_coord_Y</th>\n",
       "      <th>fsvoxel_coord_Z</th>\n",
       "      <th>talairach_coord_X</th>\n",
       "      <th>talairach_coord_Y</th>\n",
       "      <th>talairach_coord_Z</th>\n",
       "    </tr>\n",
       "  </thead>\n",
       "  <tbody>\n",
       "    <tr>\n",
       "      <th>L_LDLPFC</th>\n",
       "      <td>-22.315</td>\n",
       "      <td>55.800</td>\n",
       "      <td>60.261</td>\n",
       "      <td>151.0</td>\n",
       "      <td>80.0</td>\n",
       "      <td>108.0</td>\n",
       "      <td>-21.845998</td>\n",
       "      <td>45.13902</td>\n",
       "      <td>24.607191</td>\n",
       "      <td>150.0</td>\n",
       "      <td>103.0</td>\n",
       "      <td>173.0</td>\n",
       "      <td>-29.165642</td>\n",
       "      <td>30.586567</td>\n",
       "      <td>47.898679</td>\n",
       "    </tr>\n",
       "    <tr>\n",
       "      <th>L_IPL</th>\n",
       "      <td>-26.476</td>\n",
       "      <td>-37.551</td>\n",
       "      <td>66.249</td>\n",
       "      <td>156.0</td>\n",
       "      <td>179.0</td>\n",
       "      <td>114.0</td>\n",
       "      <td>-26.006998</td>\n",
       "      <td>-48.21198</td>\n",
       "      <td>30.595191</td>\n",
       "      <td>154.0</td>\n",
       "      <td>97.0</td>\n",
       "      <td>80.0</td>\n",
       "      <td>-25.898121</td>\n",
       "      <td>-77.851799</td>\n",
       "      <td>49.629583</td>\n",
       "    </tr>\n",
       "    <tr>\n",
       "      <th>M1</th>\n",
       "      <td>-42.261</td>\n",
       "      <td>24.805</td>\n",
       "      <td>65.385</td>\n",
       "      <td>173.0</td>\n",
       "      <td>113.0</td>\n",
       "      <td>113.0</td>\n",
       "      <td>-41.791998</td>\n",
       "      <td>14.14402</td>\n",
       "      <td>29.731191</td>\n",
       "      <td>170.0</td>\n",
       "      <td>98.0</td>\n",
       "      <td>142.0</td>\n",
       "      <td>-46.840604</td>\n",
       "      <td>-7.077662</td>\n",
       "      <td>51.564659</td>\n",
       "    </tr>\n",
       "    <tr>\n",
       "      <th>V1_M1_1</th>\n",
       "      <td>-44.178</td>\n",
       "      <td>13.784</td>\n",
       "      <td>97.124</td>\n",
       "      <td>175.0</td>\n",
       "      <td>125.0</td>\n",
       "      <td>144.0</td>\n",
       "      <td>-43.708998</td>\n",
       "      <td>3.12302</td>\n",
       "      <td>61.470191</td>\n",
       "      <td>172.0</td>\n",
       "      <td>67.0</td>\n",
       "      <td>131.0</td>\n",
       "      <td>-49.668347</td>\n",
       "      <td>-20.819590</td>\n",
       "      <td>88.397184</td>\n",
       "    </tr>\n",
       "    <tr>\n",
       "      <th>V1_M1_2</th>\n",
       "      <td>-48.035</td>\n",
       "      <td>13.878</td>\n",
       "      <td>94.487</td>\n",
       "      <td>179.0</td>\n",
       "      <td>125.0</td>\n",
       "      <td>142.0</td>\n",
       "      <td>-47.565998</td>\n",
       "      <td>3.21702</td>\n",
       "      <td>58.833191</td>\n",
       "      <td>176.0</td>\n",
       "      <td>69.0</td>\n",
       "      <td>131.0</td>\n",
       "      <td>-53.384451</td>\n",
       "      <td>-20.969015</td>\n",
       "      <td>85.158141</td>\n",
       "    </tr>\n",
       "  </tbody>\n",
       "</table>\n",
       "</div>"
      ],
      "text/plain": [
       "          ras_coord_X  ras_coord_Y  ras_coord_Z  voxel_coord_X  voxel_coord_Y  \\\n",
       "L_LDLPFC      -22.315       55.800       60.261          151.0           80.0   \n",
       "L_IPL         -26.476      -37.551       66.249          156.0          179.0   \n",
       "M1            -42.261       24.805       65.385          173.0          113.0   \n",
       "V1_M1_1       -44.178       13.784       97.124          175.0          125.0   \n",
       "V1_M1_2       -48.035       13.878       94.487          179.0          125.0   \n",
       "\n",
       "          voxel_coord_Z  ras_tkr_coord_X  ras_tkr_coord_Y  ras_tkr_coord_Z  \\\n",
       "L_LDLPFC          108.0       -21.845998         45.13902        24.607191   \n",
       "L_IPL             114.0       -26.006998        -48.21198        30.595191   \n",
       "M1                113.0       -41.791998         14.14402        29.731191   \n",
       "V1_M1_1           144.0       -43.708998          3.12302        61.470191   \n",
       "V1_M1_2           142.0       -47.565998          3.21702        58.833191   \n",
       "\n",
       "          fsvoxel_coord_X  fsvoxel_coord_Y  fsvoxel_coord_Z  \\\n",
       "L_LDLPFC            150.0            103.0            173.0   \n",
       "L_IPL               154.0             97.0             80.0   \n",
       "M1                  170.0             98.0            142.0   \n",
       "V1_M1_1             172.0             67.0            131.0   \n",
       "V1_M1_2             176.0             69.0            131.0   \n",
       "\n",
       "          talairach_coord_X  talairach_coord_Y  talairach_coord_Z  \n",
       "L_LDLPFC         -29.165642          30.586567          47.898679  \n",
       "L_IPL            -25.898121         -77.851799          49.629583  \n",
       "M1               -46.840604          -7.077662          51.564659  \n",
       "V1_M1_1          -49.668347         -20.819590          88.397184  \n",
       "V1_M1_2          -53.384451         -20.969015          85.158141  "
      ]
     },
     "execution_count": 11,
     "metadata": {},
     "output_type": "execute_result"
    }
   ],
   "source": [
    "## get a dataframe (excell sheet like) structure for the targets and their coordinates in various ways\n",
    "df = targets.get_coords_df()\n",
    "df.head()  ## only show the head of the data frame "
   ]
  },
  {
   "cell_type": "code",
   "execution_count": 12,
   "metadata": {},
   "outputs": [
    {
     "data": {
      "text/html": [
       "<div>\n",
       "<style scoped>\n",
       "    .dataframe tbody tr th:only-of-type {\n",
       "        vertical-align: middle;\n",
       "    }\n",
       "\n",
       "    .dataframe tbody tr th {\n",
       "        vertical-align: top;\n",
       "    }\n",
       "\n",
       "    .dataframe thead th {\n",
       "        text-align: right;\n",
       "    }\n",
       "</style>\n",
       "<table border=\"1\" class=\"dataframe\">\n",
       "  <thead>\n",
       "    <tr style=\"text-align: right;\">\n",
       "      <th></th>\n",
       "      <th>ras_coord_X</th>\n",
       "      <th>ras_coord_Y</th>\n",
       "      <th>ras_coord_Z</th>\n",
       "      <th>voxel_coord_X</th>\n",
       "      <th>voxel_coord_Y</th>\n",
       "      <th>voxel_coord_Z</th>\n",
       "      <th>ras_tkr_coord_X</th>\n",
       "      <th>ras_tkr_coord_Y</th>\n",
       "      <th>ras_tkr_coord_Z</th>\n",
       "      <th>fsvoxel_coord_X</th>\n",
       "      <th>fsvoxel_coord_Y</th>\n",
       "      <th>fsvoxel_coord_Z</th>\n",
       "      <th>talairach_coord_X</th>\n",
       "      <th>talairach_coord_Y</th>\n",
       "      <th>talairach_coord_Z</th>\n",
       "    </tr>\n",
       "  </thead>\n",
       "  <tbody>\n",
       "    <tr>\n",
       "      <th>L_LDLPFC</th>\n",
       "      <td>-22.315</td>\n",
       "      <td>55.8</td>\n",
       "      <td>60.261</td>\n",
       "      <td>151.0</td>\n",
       "      <td>80.0</td>\n",
       "      <td>108.0</td>\n",
       "      <td>-21.845998</td>\n",
       "      <td>45.13902</td>\n",
       "      <td>24.607191</td>\n",
       "      <td>150.0</td>\n",
       "      <td>103.0</td>\n",
       "      <td>173.0</td>\n",
       "      <td>-29.165642</td>\n",
       "      <td>30.586567</td>\n",
       "      <td>47.898679</td>\n",
       "    </tr>\n",
       "  </tbody>\n",
       "</table>\n",
       "</div>"
      ],
      "text/plain": [
       "          ras_coord_X  ras_coord_Y  ras_coord_Z  voxel_coord_X  voxel_coord_Y  \\\n",
       "L_LDLPFC      -22.315         55.8       60.261          151.0           80.0   \n",
       "\n",
       "          voxel_coord_Z  ras_tkr_coord_X  ras_tkr_coord_Y  ras_tkr_coord_Z  \\\n",
       "L_LDLPFC          108.0       -21.845998         45.13902        24.607191   \n",
       "\n",
       "          fsvoxel_coord_X  fsvoxel_coord_Y  fsvoxel_coord_Z  \\\n",
       "L_LDLPFC            150.0            103.0            173.0   \n",
       "\n",
       "          talairach_coord_X  talairach_coord_Y  talairach_coord_Z  \n",
       "L_LDLPFC         -29.165642          30.586567          47.898679  "
      ]
     },
     "execution_count": 12,
     "metadata": {},
     "output_type": "execute_result"
    }
   ],
   "source": [
    "## you can also subset the coordinate dataframe with the following command\n",
    "coords_df = targets.get_coords_df(subset_by='name',subset_vals=['L_LDLPFC'])\n",
    "coords_df.head()"
   ]
  },
  {
   "cell_type": "code",
   "execution_count": 13,
   "metadata": {},
   "outputs": [],
   "source": [
    "### you can save the dataframe to excel sheet \n",
    "df = targets.get_coords_df()\n",
    "df.to_excel('targets_coordiantes.xlsx')"
   ]
  },
  {
   "cell_type": "markdown",
   "metadata": {},
   "source": [
    "## visualization of targets"
   ]
  },
  {
   "cell_type": "code",
   "execution_count": 15,
   "metadata": {},
   "outputs": [
    {
     "data": {
      "text/plain": [
       "array(['L_LDLPFC', 'L_IPL', 'M1', 'V1_M1_1', 'V1_M1_2', 'V1_M1_3',\n",
       "       'V1_M1_4', 'V1_M1_5', 'L_IPL_1', 'V1_M1_6', 'R_DLPFC', 'R_OCC',\n",
       "       'V2_M1_1', 'V2_M1_2', 'F_OCC', 'F_RDLPFC', 'I_DAN', 'I_DMN',\n",
       "       'C_DAN', 'C_DMN', 'ICA-DAN', 'ICA-DMN', 'V3_M1_1', 'v3_M1_2',\n",
       "       'V4_m1_1', 'v4_m1_2', 'v4_m1_3', 'v4_m1_4', 'v4_m1_5', 'V5_M1_1',\n",
       "       'V5_M1_2', 'V5_M1_3', 'V5_M1_4', 'V5_M1_5', 'V6_m1_1', 'V6_m1_2'],\n",
       "      dtype=object)"
      ]
     },
     "execution_count": 15,
     "metadata": {},
     "output_type": "execute_result"
    }
   ],
   "source": [
    "targets.name"
   ]
  },
  {
   "cell_type": "code",
   "execution_count": 16,
   "metadata": {},
   "outputs": [],
   "source": [
    "names_to_plot = ['L_LDLPFC','L_IPL','M1','C_DMN']\n",
    "\n",
    "### subseting targets based on name \n",
    "targets_to_plot = targets.subset('name',names_to_plot)"
   ]
  },
  {
   "cell_type": "code",
   "execution_count": 17,
   "metadata": {},
   "outputs": [
    {
     "name": "stdout",
     "output_type": "stream",
     "text": [
      "head model exists!\n"
     ]
    }
   ],
   "source": [
    "p = plotting_points(targets_to_plot,hemi='both',surf='white',\n",
    "                show_roi=True,show_name=True,scale_factor=1,name_scale=4,\n",
    "                opacity=1,annot='Yeo2011_7Networks_N1000',show_directions=True)\n",
    "\n",
    "\n",
    "p.brain.save_imageset('sample_',views=['dor','med','lat'])\n",
    "p.show()"
   ]
  },
  {
   "cell_type": "markdown",
   "metadata": {},
   "source": [
    "![title](sample__dor.png)"
   ]
  },
  {
   "cell_type": "code",
   "execution_count": null,
   "metadata": {},
   "outputs": [],
   "source": []
  }
 ],
 "metadata": {
  "hide_input": false,
  "kernelspec": {
   "display_name": "Python 3",
   "language": "python",
   "name": "python3"
  },
  "language_info": {
   "codemirror_mode": {
    "name": "ipython",
    "version": 3
   },
   "file_extension": ".py",
   "mimetype": "text/x-python",
   "name": "python",
   "nbconvert_exporter": "python",
   "pygments_lexer": "ipython3",
   "version": "3.6.9"
  },
  "latex_envs": {
   "LaTeX_envs_menu_present": true,
   "autoclose": false,
   "autocomplete": true,
   "bibliofile": "biblio.bib",
   "cite_by": "apalike",
   "current_citInitial": 1,
   "eqLabelWithNumbers": true,
   "eqNumInitial": 1,
   "hotkeys": {
    "equation": "Ctrl-E",
    "itemize": "Ctrl-I"
   },
   "labels_anchors": false,
   "latex_user_defs": false,
   "report_style_numbering": false,
   "user_envs_cfg": false
  },
  "toc": {
   "base_numbering": 1,
   "nav_menu": {},
   "number_sections": true,
   "sideBar": true,
   "skip_h1_title": false,
   "title_cell": "Table of Contents",
   "title_sidebar": "Contents",
   "toc_cell": false,
   "toc_position": {},
   "toc_section_display": true,
   "toc_window_display": true
  }
 },
 "nbformat": 4,
 "nbformat_minor": 4
}
