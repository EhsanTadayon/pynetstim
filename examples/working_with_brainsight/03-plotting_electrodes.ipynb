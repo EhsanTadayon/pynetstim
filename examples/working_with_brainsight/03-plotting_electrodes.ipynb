{
 "cells": [
  {
   "cell_type": "markdown",
   "metadata": {},
   "source": [
    "### plotting_electrodes"
   ]
  },
  {
   "cell_type": "code",
   "execution_count": 1,
   "metadata": {},
   "outputs": [
    {
     "name": "stdout",
     "output_type": "stream",
     "text": [
      "200228-14:21:21,956 nipype.utils INFO:\n",
      "\t Running nipype version 1.3.1 (latest: 1.4.2)\n"
     ]
    }
   ],
   "source": [
    "from pynetstim.brainsight import BrainsightProject\n",
    "from pynetstim.plotting import plotting_points"
   ]
  },
  {
   "cell_type": "code",
   "execution_count": 2,
   "metadata": {},
   "outputs": [],
   "source": [
    "subject = 'Broad_69_LD'\n",
    "project_dir = '/Users/ehsantadayon/Desktop/project_pynetstim/'\n",
    "freesurfer_dir = '/Users/ehsantadayon/Dropbox/Projects/Broad/data/freesurfer/subjects'\n",
    "brainsight_file = '/Users/ehsantadayon/Dropbox/Projects/Broad/data/sessions_data_raw/Broad_69_LD_sessions_data.txt'\n"
   ]
  },
  {
   "cell_type": "code",
   "execution_count": 4,
   "metadata": {},
   "outputs": [
    {
     "name": "stdout",
     "output_type": "stream",
     "text": [
      "Target\n",
      "Sample\n",
      "Electrode\n",
      "Planned\n",
      "Session\n"
     ]
    }
   ],
   "source": [
    "bsp = BrainsightProject(subject,brainsight_file,project_dir,freesurfer_dir=freesurfer_dir)"
   ]
  },
  {
   "cell_type": "code",
   "execution_count": 17,
   "metadata": {},
   "outputs": [],
   "source": [
    "electrodes = bsp.brainsight_electrodes.to_freesurfer_coords('Session 1')"
   ]
  },
  {
   "cell_type": "code",
   "execution_count": 21,
   "metadata": {},
   "outputs": [
    {
     "name": "stdout",
     "output_type": "stream",
     "text": [
      "head model exists!\n"
     ]
    }
   ],
   "source": [
    "p = plotting_points(electrodes, show_name=True, name_scale=4)\n",
    "p.show()"
   ]
  }
 ],
 "metadata": {
  "kernelspec": {
   "display_name": "Python 3",
   "language": "python",
   "name": "python3"
  },
  "language_info": {
   "codemirror_mode": {
    "name": "ipython",
    "version": 3
   },
   "file_extension": ".py",
   "mimetype": "text/x-python",
   "name": "python",
   "nbconvert_exporter": "python",
   "pygments_lexer": "ipython3",
   "version": "3.6.9"
  }
 },
 "nbformat": 4,
 "nbformat_minor": 2
}
