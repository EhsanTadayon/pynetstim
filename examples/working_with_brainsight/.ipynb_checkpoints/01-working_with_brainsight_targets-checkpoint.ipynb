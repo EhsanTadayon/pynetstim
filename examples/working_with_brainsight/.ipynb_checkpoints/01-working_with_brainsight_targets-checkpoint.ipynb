{
 "cells": [
  {
   "cell_type": "markdown",
   "metadata": {},
   "source": [
    "# Working with brainsight module"
   ]
  },
  {
   "cell_type": "code",
   "execution_count": 1,
   "metadata": {},
   "outputs": [
    {
     "name": "stdout",
     "output_type": "stream",
     "text": [
      "200228-16:21:42,774 nipype.utils INFO:\n",
      "\t Running nipype version 1.3.1 (latest: 1.4.2)\n"
     ]
    }
   ],
   "source": [
    "from pynetstim.brainsight import BrainsightProject, chunk_samples, plot_chunks\n",
    "from pynetstim.plotting import plotting_points\n",
    "from pynetstim.coordinates import FreesurferCoords\n",
    "from pynetstim.freesurfer_files import Surf\n",
    "from pynetstim.utils import clean_plot\n",
    "import numpy as np\n",
    "import matplotlib.pyplot as plt\n",
    "%matplotlib inline\n",
    "import os"
   ]
  },
  {
   "cell_type": "markdown",
   "metadata": {},
   "source": [
    "## Brainsight project"
   ]
  },
  {
   "cell_type": "code",
   "execution_count": 2,
   "metadata": {},
   "outputs": [
    {
     "ename": "FileNotFoundError",
     "evalue": "[Errno 2] No such file or directory: '/users/ehsantadayon/Desktop/Broad_70_MW/brainsight/brainsight.txt'",
     "output_type": "error",
     "traceback": [
      "\u001b[0;31m---------------------------------------------------------------------------\u001b[0m",
      "\u001b[0;31mFileNotFoundError\u001b[0m                         Traceback (most recent call last)",
      "\u001b[0;32m<ipython-input-2-a9c7ca4e2ff8>\u001b[0m in \u001b[0;36m<module>\u001b[0;34m\u001b[0m\n\u001b[1;32m      7\u001b[0m project = BrainsightProject(subject, freesurfer_dir = freesurfer_dir,\n\u001b[1;32m      8\u001b[0m                       \u001b[0mproject_dir\u001b[0m\u001b[0;34m=\u001b[0m \u001b[0mproject_dir\u001b[0m\u001b[0;34m,\u001b[0m\u001b[0;34m\u001b[0m\u001b[0;34m\u001b[0m\u001b[0m\n\u001b[0;32m----> 9\u001b[0;31m                       brainsight_file = brainsight_file)\n\u001b[0m\u001b[1;32m     10\u001b[0m \u001b[0;34m\u001b[0m\u001b[0m\n\u001b[1;32m     11\u001b[0m \u001b[0;31m#project.summary(plot_pulses=True,overwrite=True,heightpx=250,widthpx=900)\u001b[0m\u001b[0;34m\u001b[0m\u001b[0;34m\u001b[0m\u001b[0;34m\u001b[0m\u001b[0m\n",
      "\u001b[0;32m~/anaconda2/envs/py3.6/lib/python3.6/site-packages/pynetstim/brainsight.py\u001b[0m in \u001b[0;36m__init__\u001b[0;34m(self, subject, brainsight_file, project_dir, anat_img, freesurfer_dir)\u001b[0m\n\u001b[1;32m    356\u001b[0m \u001b[0;34m\u001b[0m\u001b[0m\n\u001b[1;32m    357\u001b[0m         \u001b[0;31m## initializing\u001b[0m\u001b[0;34m\u001b[0m\u001b[0;34m\u001b[0m\u001b[0;34m\u001b[0m\u001b[0m\n\u001b[0;32m--> 358\u001b[0;31m         \u001b[0mself\u001b[0m\u001b[0;34m.\u001b[0m\u001b[0m_parse_brainsight_file\u001b[0m\u001b[0;34m(\u001b[0m\u001b[0;34m)\u001b[0m\u001b[0;34m\u001b[0m\u001b[0;34m\u001b[0m\u001b[0m\n\u001b[0m\u001b[1;32m    359\u001b[0m \u001b[0;34m\u001b[0m\u001b[0m\n\u001b[1;32m    360\u001b[0m     \u001b[0;32mdef\u001b[0m \u001b[0m_parse_brainsight_file\u001b[0m\u001b[0;34m(\u001b[0m\u001b[0mself\u001b[0m\u001b[0;34m)\u001b[0m\u001b[0;34m:\u001b[0m\u001b[0;34m\u001b[0m\u001b[0;34m\u001b[0m\u001b[0m\n",
      "\u001b[0;32m~/anaconda2/envs/py3.6/lib/python3.6/site-packages/pynetstim/brainsight.py\u001b[0m in \u001b[0;36m_parse_brainsight_file\u001b[0;34m(self)\u001b[0m\n\u001b[1;32m    363\u001b[0m             \u001b[0mos\u001b[0m\u001b[0;34m.\u001b[0m\u001b[0mmakedirs\u001b[0m\u001b[0;34m(\u001b[0m\u001b[0mos\u001b[0m\u001b[0;34m.\u001b[0m\u001b[0mpath\u001b[0m\u001b[0;34m.\u001b[0m\u001b[0mjoin\u001b[0m\u001b[0;34m(\u001b[0m\u001b[0mself\u001b[0m\u001b[0;34m.\u001b[0m\u001b[0msubject_dir\u001b[0m\u001b[0;34m,\u001b[0m\u001b[0;34m'brainsight'\u001b[0m\u001b[0;34m)\u001b[0m\u001b[0;34m)\u001b[0m\u001b[0;34m\u001b[0m\u001b[0;34m\u001b[0m\u001b[0m\n\u001b[1;32m    364\u001b[0m \u001b[0;34m\u001b[0m\u001b[0m\n\u001b[0;32m--> 365\u001b[0;31m         \u001b[0mbs\u001b[0m \u001b[0;34m=\u001b[0m \u001b[0mBrainsightSessionFile\u001b[0m\u001b[0;34m(\u001b[0m\u001b[0mself\u001b[0m\u001b[0;34m.\u001b[0m\u001b[0mbrainsight_file\u001b[0m\u001b[0;34m,\u001b[0m\u001b[0mout_dir\u001b[0m\u001b[0;34m=\u001b[0m\u001b[0;34m'{subject_dir}/brainsight'\u001b[0m\u001b[0;34m.\u001b[0m\u001b[0mformat\u001b[0m\u001b[0;34m(\u001b[0m\u001b[0msubject_dir\u001b[0m\u001b[0;34m=\u001b[0m\u001b[0mself\u001b[0m\u001b[0;34m.\u001b[0m\u001b[0msubject_dir\u001b[0m\u001b[0;34m)\u001b[0m\u001b[0;34m)\u001b[0m\u001b[0;34m\u001b[0m\u001b[0;34m\u001b[0m\u001b[0m\n\u001b[0m\u001b[1;32m    366\u001b[0m         \u001b[0mself\u001b[0m\u001b[0;34m.\u001b[0m\u001b[0mbrainsight_samples\u001b[0m \u001b[0;34m=\u001b[0m \u001b[0mBrainsightSamples\u001b[0m\u001b[0;34m(\u001b[0m\u001b[0;34m'{subject_dir}/brainsight/Sample.txt'\u001b[0m\u001b[0;34m.\u001b[0m\u001b[0mformat\u001b[0m\u001b[0;34m(\u001b[0m\u001b[0msubject_dir\u001b[0m\u001b[0;34m=\u001b[0m\u001b[0mself\u001b[0m\u001b[0;34m.\u001b[0m\u001b[0msubject_dir\u001b[0m\u001b[0;34m)\u001b[0m\u001b[0;34m)\u001b[0m\u001b[0;34m\u001b[0m\u001b[0;34m\u001b[0m\u001b[0m\n\u001b[1;32m    367\u001b[0m         self.brainsight_targets = BrainsightTargets('{subject_dir}/brainsight/Target.txt'.format(subject_dir=self.subject_dir), subject=self.subject,\n",
      "\u001b[0;32m~/anaconda2/envs/py3.6/lib/python3.6/site-packages/pynetstim/brainsight.py\u001b[0m in \u001b[0;36m__init__\u001b[0;34m(self, bs_session_file, base_name, out_dir)\u001b[0m\n\u001b[1;32m     47\u001b[0m \u001b[0;34m\u001b[0m\u001b[0m\n\u001b[1;32m     48\u001b[0m \u001b[0;34m\u001b[0m\u001b[0m\n\u001b[0;32m---> 49\u001b[0;31m         \u001b[0mself\u001b[0m\u001b[0;34m.\u001b[0m\u001b[0mf\u001b[0m \u001b[0;34m=\u001b[0m \u001b[0mopen\u001b[0m\u001b[0;34m(\u001b[0m\u001b[0mself\u001b[0m\u001b[0;34m.\u001b[0m\u001b[0mbs_session_file\u001b[0m\u001b[0;34m,\u001b[0m\u001b[0;34m'r'\u001b[0m\u001b[0;34m)\u001b[0m\u001b[0;34m.\u001b[0m\u001b[0mread\u001b[0m\u001b[0;34m(\u001b[0m\u001b[0;34m)\u001b[0m\u001b[0;34m.\u001b[0m\u001b[0msplit\u001b[0m\u001b[0;34m(\u001b[0m\u001b[0;34m'\\n'\u001b[0m\u001b[0;34m)\u001b[0m\u001b[0;34m\u001b[0m\u001b[0;34m\u001b[0m\u001b[0m\n\u001b[0m\u001b[1;32m     50\u001b[0m         \u001b[0mself\u001b[0m\u001b[0;34m.\u001b[0m\u001b[0mtables\u001b[0m \u001b[0;34m=\u001b[0m \u001b[0;34m[\u001b[0m\u001b[0;34m(\u001b[0m\u001b[0mi\u001b[0m\u001b[0;34m,\u001b[0m\u001b[0mheader\u001b[0m\u001b[0;34m)\u001b[0m \u001b[0;32mfor\u001b[0m \u001b[0mi\u001b[0m\u001b[0;34m,\u001b[0m\u001b[0mheader\u001b[0m \u001b[0;32min\u001b[0m \u001b[0menumerate\u001b[0m\u001b[0;34m(\u001b[0m\u001b[0mself\u001b[0m\u001b[0;34m.\u001b[0m\u001b[0mf\u001b[0m\u001b[0;34m)\u001b[0m \u001b[0;32mif\u001b[0m \u001b[0;34m'# '\u001b[0m \u001b[0;32min\u001b[0m \u001b[0mheader\u001b[0m\u001b[0;34m]\u001b[0m  \u001b[0;31m#### finding where sub-tables start\u001b[0m\u001b[0;34m\u001b[0m\u001b[0;34m\u001b[0m\u001b[0m\n\u001b[1;32m     51\u001b[0m         \u001b[0mself\u001b[0m\u001b[0;34m.\u001b[0m\u001b[0mtables\u001b[0m \u001b[0;34m=\u001b[0m \u001b[0mself\u001b[0m\u001b[0;34m.\u001b[0m\u001b[0mtables\u001b[0m \u001b[0;34m+\u001b[0m \u001b[0;34m[\u001b[0m\u001b[0;34m(\u001b[0m\u001b[0mlen\u001b[0m\u001b[0;34m(\u001b[0m\u001b[0mself\u001b[0m\u001b[0;34m.\u001b[0m\u001b[0mf\u001b[0m\u001b[0;34m)\u001b[0m\u001b[0;34m,\u001b[0m\u001b[0;34m'# End'\u001b[0m\u001b[0;34m)\u001b[0m\u001b[0;34m]\u001b[0m\u001b[0;34m\u001b[0m\u001b[0;34m\u001b[0m\u001b[0m\n",
      "\u001b[0;31mFileNotFoundError\u001b[0m: [Errno 2] No such file or directory: '/users/ehsantadayon/Desktop/Broad_70_MW/brainsight/brainsight.txt'"
     ]
    }
   ],
   "source": [
    "subject = 'Broad_70_MW'\n",
    "base_dir = '/users/ehsantadayon/Desktop/Broad_70_MW'\n",
    "freesurfer_dir = '/Users/ehsantadayon/Desktop/Broad_70_MW/freesurfer2'\n",
    "project_dir = os.path.join(base_dir,'{subject}/pynetstim_output'.format(subject=subject))\n",
    "brainsight_file = os.path.join(base_dir, 'brainsight/brainsight.txt'.format(subject=subject))\n",
    "\n",
    "project = BrainsightProject(subject, freesurfer_dir = freesurfer_dir,\n",
    "                      project_dir= project_dir, \n",
    "                      brainsight_file = brainsight_file)\n",
    "\n",
    "#project.summary(plot_pulses=True,overwrite=True,heightpx=250,widthpx=900)"
   ]
  },
  {
   "cell_type": "markdown",
   "metadata": {},
   "source": [
    "#### samples and targets"
   ]
  },
  {
   "cell_type": "code",
   "execution_count": 10,
   "metadata": {},
   "outputs": [],
   "source": [
    "targets = project.brainsight_targets.to_freesurfer_coords()\n",
    "samples = project.brainsight_samples"
   ]
  },
  {
   "cell_type": "code",
   "execution_count": 31,
   "metadata": {},
   "outputs": [],
   "source": [
    "def get_coords_df(targets,coord_types='all', by=None,vals=None,to_df=True):\n",
    "    \n",
    "    if coord_types=='all':\n",
    "        coord_types = targets.coordinates.keys()\n",
    "    \n",
    "    if by: \n",
    "        targets = targets.subset(by,vals)\n",
    "\n",
    "    results = []    \n",
    "    for coord_type in coord_types:\n",
    "        coords = targets.coordinates[coord_type]\n",
    "        coords_df = pd.DataFrame(coords,index=targets.name,columns=[coord_type+'_{axis}'.format(axis=a) for a in ['X','Y','Z']])\n",
    "        print(coords_df.head())\n",
    "        results.append(coords_df)\n",
    "    return pd.concat(results,axis=1)"
   ]
  },
  {
   "cell_type": "code",
   "execution_count": 32,
   "metadata": {},
   "outputs": [
    {
     "name": "stdout",
     "output_type": "stream",
     "text": [
      "         ras_coord_X  ras_coord_Y  ras_coord_Z\n",
      "R_DLPFC       27.422       50.207       44.291\n",
      "         voxel_coord_X  voxel_coord_Y  voxel_coord_Z\n",
      "R_DLPFC           98.0           94.0          114.0\n",
      "         ras_tkr_coord_X  ras_tkr_coord_Y  ras_tkr_coord_Z\n",
      "R_DLPFC        28.479991        31.925018        31.489303\n",
      "         fsvoxel_coord_X  fsvoxel_coord_Y  fsvoxel_coord_Z\n",
      "R_DLPFC            100.0             97.0            160.0\n",
      "         talairach_coord_X  talairach_coord_Y  talairach_coord_Z\n",
      "R_DLPFC          33.148733          26.296907          43.293106\n"
     ]
    },
    {
     "data": {
      "text/html": [
       "<div>\n",
       "<style scoped>\n",
       "    .dataframe tbody tr th:only-of-type {\n",
       "        vertical-align: middle;\n",
       "    }\n",
       "\n",
       "    .dataframe tbody tr th {\n",
       "        vertical-align: top;\n",
       "    }\n",
       "\n",
       "    .dataframe thead th {\n",
       "        text-align: right;\n",
       "    }\n",
       "</style>\n",
       "<table border=\"1\" class=\"dataframe\">\n",
       "  <thead>\n",
       "    <tr style=\"text-align: right;\">\n",
       "      <th></th>\n",
       "      <th>ras_coord_X</th>\n",
       "      <th>ras_coord_Y</th>\n",
       "      <th>ras_coord_Z</th>\n",
       "      <th>voxel_coord_X</th>\n",
       "      <th>voxel_coord_Y</th>\n",
       "      <th>voxel_coord_Z</th>\n",
       "      <th>ras_tkr_coord_X</th>\n",
       "      <th>ras_tkr_coord_Y</th>\n",
       "      <th>ras_tkr_coord_Z</th>\n",
       "      <th>fsvoxel_coord_X</th>\n",
       "      <th>fsvoxel_coord_Y</th>\n",
       "      <th>fsvoxel_coord_Z</th>\n",
       "      <th>talairach_coord_X</th>\n",
       "      <th>talairach_coord_Y</th>\n",
       "      <th>talairach_coord_Z</th>\n",
       "    </tr>\n",
       "  </thead>\n",
       "  <tbody>\n",
       "    <tr>\n",
       "      <th>R_DLPFC</th>\n",
       "      <td>27.422</td>\n",
       "      <td>50.207</td>\n",
       "      <td>44.291</td>\n",
       "      <td>98.0</td>\n",
       "      <td>94.0</td>\n",
       "      <td>114.0</td>\n",
       "      <td>28.479991</td>\n",
       "      <td>31.925018</td>\n",
       "      <td>31.489303</td>\n",
       "      <td>100.0</td>\n",
       "      <td>97.0</td>\n",
       "      <td>160.0</td>\n",
       "      <td>33.148733</td>\n",
       "      <td>26.296907</td>\n",
       "      <td>43.293106</td>\n",
       "    </tr>\n",
       "  </tbody>\n",
       "</table>\n",
       "</div>"
      ],
      "text/plain": [
       "         ras_coord_X  ras_coord_Y  ras_coord_Z  voxel_coord_X  voxel_coord_Y  \\\n",
       "R_DLPFC       27.422       50.207       44.291           98.0           94.0   \n",
       "\n",
       "         voxel_coord_Z  ras_tkr_coord_X  ras_tkr_coord_Y  ras_tkr_coord_Z  \\\n",
       "R_DLPFC          114.0        28.479991        31.925018        31.489303   \n",
       "\n",
       "         fsvoxel_coord_X  fsvoxel_coord_Y  fsvoxel_coord_Z  talairach_coord_X  \\\n",
       "R_DLPFC            100.0             97.0            160.0          33.148733   \n",
       "\n",
       "         talairach_coord_Y  talairach_coord_Z  \n",
       "R_DLPFC          26.296907          43.293106  "
      ]
     },
     "execution_count": 32,
     "metadata": {},
     "output_type": "execute_result"
    }
   ],
   "source": [
    "import pandas as pd\n",
    "get_coords_df(targets,by='name',vals=['R_DLPFC'])"
   ]
  },
  {
   "cell_type": "code",
   "execution_count": 5,
   "metadata": {},
   "outputs": [
    {
     "data": {
      "text/html": [
       "<div>\n",
       "<style scoped>\n",
       "    .dataframe tbody tr th:only-of-type {\n",
       "        vertical-align: middle;\n",
       "    }\n",
       "\n",
       "    .dataframe tbody tr th {\n",
       "        vertical-align: top;\n",
       "    }\n",
       "\n",
       "    .dataframe thead th {\n",
       "        text-align: right;\n",
       "    }\n",
       "</style>\n",
       "<table border=\"1\" class=\"dataframe\">\n",
       "  <thead>\n",
       "    <tr style=\"text-align: right;\">\n",
       "      <th></th>\n",
       "      <th>sample_name</th>\n",
       "      <th>session_name</th>\n",
       "      <th>index</th>\n",
       "      <th>assoc_target</th>\n",
       "      <th>loc_x</th>\n",
       "      <th>loc_y</th>\n",
       "      <th>loc_z</th>\n",
       "      <th>m0n0</th>\n",
       "      <th>m0n1</th>\n",
       "      <th>m0n2</th>\n",
       "      <th>...</th>\n",
       "      <th>angular_error</th>\n",
       "      <th>twist_error</th>\n",
       "      <th>stim_power</th>\n",
       "      <th>date</th>\n",
       "      <th>time</th>\n",
       "      <th>creation_cause</th>\n",
       "      <th>crosshairs_driver</th>\n",
       "      <th>offset</th>\n",
       "      <th>comment</th>\n",
       "      <th>emg_channels</th>\n",
       "    </tr>\n",
       "  </thead>\n",
       "  <tbody>\n",
       "    <tr>\n",
       "      <th>0</th>\n",
       "      <td>Sample 1</td>\n",
       "      <td>Session 1</td>\n",
       "      <td>1</td>\n",
       "      <td>L_IPL</td>\n",
       "      <td>-37.144</td>\n",
       "      <td>14.403</td>\n",
       "      <td>86.325</td>\n",
       "      <td>0.754</td>\n",
       "      <td>-0.432</td>\n",
       "      <td>0.494</td>\n",
       "      <td>...</td>\n",
       "      <td>44.320</td>\n",
       "      <td>19.617</td>\n",
       "      <td>(null)</td>\n",
       "      <td>2018-03-19</td>\n",
       "      <td>09:15:18.382</td>\n",
       "      <td>TTL2</td>\n",
       "      <td>Broad - CT210</td>\n",
       "      <td>0.0</td>\n",
       "      <td>(null)</td>\n",
       "      <td>(null)</td>\n",
       "    </tr>\n",
       "    <tr>\n",
       "      <th>1</th>\n",
       "      <td>Sample 2</td>\n",
       "      <td>Session 1</td>\n",
       "      <td>2</td>\n",
       "      <td>L_IPL</td>\n",
       "      <td>-37.195</td>\n",
       "      <td>12.126</td>\n",
       "      <td>85.992</td>\n",
       "      <td>0.704</td>\n",
       "      <td>-0.503</td>\n",
       "      <td>0.502</td>\n",
       "      <td>...</td>\n",
       "      <td>43.759</td>\n",
       "      <td>15.227</td>\n",
       "      <td>(null)</td>\n",
       "      <td>2018-03-19</td>\n",
       "      <td>09:15:22.540</td>\n",
       "      <td>TTL2</td>\n",
       "      <td>Broad - CT210</td>\n",
       "      <td>0.0</td>\n",
       "      <td>(null)</td>\n",
       "      <td>(null)</td>\n",
       "    </tr>\n",
       "    <tr>\n",
       "      <th>2</th>\n",
       "      <td>Sample 3</td>\n",
       "      <td>Session 1</td>\n",
       "      <td>3</td>\n",
       "      <td>L_IPL</td>\n",
       "      <td>-33.361</td>\n",
       "      <td>16.928</td>\n",
       "      <td>90.125</td>\n",
       "      <td>0.725</td>\n",
       "      <td>-0.510</td>\n",
       "      <td>0.462</td>\n",
       "      <td>...</td>\n",
       "      <td>44.721</td>\n",
       "      <td>13.971</td>\n",
       "      <td>(null)</td>\n",
       "      <td>2018-03-19</td>\n",
       "      <td>09:16:29.938</td>\n",
       "      <td>TTL2</td>\n",
       "      <td>Broad - CT210</td>\n",
       "      <td>0.0</td>\n",
       "      <td>(null)</td>\n",
       "      <td>(null)</td>\n",
       "    </tr>\n",
       "    <tr>\n",
       "      <th>3</th>\n",
       "      <td>Sample 4</td>\n",
       "      <td>Session 1</td>\n",
       "      <td>4</td>\n",
       "      <td>L_IPL</td>\n",
       "      <td>-33.316</td>\n",
       "      <td>16.988</td>\n",
       "      <td>90.090</td>\n",
       "      <td>0.732</td>\n",
       "      <td>-0.502</td>\n",
       "      <td>0.460</td>\n",
       "      <td>...</td>\n",
       "      <td>44.564</td>\n",
       "      <td>14.384</td>\n",
       "      <td>(null)</td>\n",
       "      <td>2018-03-19</td>\n",
       "      <td>09:16:32.383</td>\n",
       "      <td>TTL2</td>\n",
       "      <td>Broad - CT210</td>\n",
       "      <td>0.0</td>\n",
       "      <td>(null)</td>\n",
       "      <td>(null)</td>\n",
       "    </tr>\n",
       "    <tr>\n",
       "      <th>4</th>\n",
       "      <td>Sample 5</td>\n",
       "      <td>Session 1</td>\n",
       "      <td>5</td>\n",
       "      <td>L_IPL</td>\n",
       "      <td>-52.576</td>\n",
       "      <td>25.346</td>\n",
       "      <td>76.521</td>\n",
       "      <td>0.646</td>\n",
       "      <td>-0.544</td>\n",
       "      <td>0.535</td>\n",
       "      <td>...</td>\n",
       "      <td>42.385</td>\n",
       "      <td>13.049</td>\n",
       "      <td>(null)</td>\n",
       "      <td>2018-03-19</td>\n",
       "      <td>09:16:46.699</td>\n",
       "      <td>TTL2</td>\n",
       "      <td>Broad - CT210</td>\n",
       "      <td>0.0</td>\n",
       "      <td>(null)</td>\n",
       "      <td>(null)</td>\n",
       "    </tr>\n",
       "  </tbody>\n",
       "</table>\n",
       "<p>5 rows × 28 columns</p>\n",
       "</div>"
      ],
      "text/plain": [
       "  sample_name session_name  index assoc_target   loc_x   loc_y   loc_z   m0n0  \\\n",
       "0    Sample 1    Session 1      1        L_IPL -37.144  14.403  86.325  0.754   \n",
       "1    Sample 2    Session 1      2        L_IPL -37.195  12.126  85.992  0.704   \n",
       "2    Sample 3    Session 1      3        L_IPL -33.361  16.928  90.125  0.725   \n",
       "3    Sample 4    Session 1      4        L_IPL -33.316  16.988  90.090  0.732   \n",
       "4    Sample 5    Session 1      5        L_IPL -52.576  25.346  76.521  0.646   \n",
       "\n",
       "    m0n1   m0n2  ...  angular_error  twist_error  stim_power        date  \\\n",
       "0 -0.432  0.494  ...         44.320       19.617      (null)  2018-03-19   \n",
       "1 -0.503  0.502  ...         43.759       15.227      (null)  2018-03-19   \n",
       "2 -0.510  0.462  ...         44.721       13.971      (null)  2018-03-19   \n",
       "3 -0.502  0.460  ...         44.564       14.384      (null)  2018-03-19   \n",
       "4 -0.544  0.535  ...         42.385       13.049      (null)  2018-03-19   \n",
       "\n",
       "           time  creation_cause  crosshairs_driver  offset  comment  \\\n",
       "0  09:15:18.382            TTL2      Broad - CT210     0.0   (null)   \n",
       "1  09:15:22.540            TTL2      Broad - CT210     0.0   (null)   \n",
       "2  09:16:29.938            TTL2      Broad - CT210     0.0   (null)   \n",
       "3  09:16:32.383            TTL2      Broad - CT210     0.0   (null)   \n",
       "4  09:16:46.699            TTL2      Broad - CT210     0.0   (null)   \n",
       "\n",
       "   emg_channels  \n",
       "0        (null)  \n",
       "1        (null)  \n",
       "2        (null)  \n",
       "3        (null)  \n",
       "4        (null)  \n",
       "\n",
       "[5 rows x 28 columns]"
      ]
     },
     "execution_count": 5,
     "metadata": {},
     "output_type": "execute_result"
    }
   ],
   "source": [
    "### getting samples for L_DLPFC\n",
    "lipl_samples = samples.get_target_stims('L_IPL')\n",
    "lipl_samples.head()"
   ]
  },
  {
   "cell_type": "code",
   "execution_count": 6,
   "metadata": {},
   "outputs": [
    {
     "data": {
      "image/png": "[encoded data removed]",
      "text/plain": [
       "<Figure size 432x288 with 1 Axes>"
      ]
     },
     "metadata": {
      "needs_background": "light"
     },
     "output_type": "display_data"
    }
   ],
   "source": [
    "### plotting samples target errors\n",
    "fig,ax = plt.subplots()\n",
    "ax.plot(lipl_samples.target_error,'*-')\n",
    "ax.set_xlabel('Stimulation Pulse')\n",
    "ax.set_ylabel('LIPL Target Error')\n",
    "fig,ax  = clean_plot(fig,ax)"
   ]
  },
  {
   "cell_type": "markdown",
   "metadata": {},
   "source": [
    "As the jumps in the plot shows, LDLPFC has been stimulated at different sessions. We can chunk the samples. "
   ]
  },
  {
   "cell_type": "code",
   "execution_count": 7,
   "metadata": {},
   "outputs": [
    {
     "name": "stdout",
     "output_type": "stream",
     "text": [
      "[0, 2, 12, 181, 481, 631, 930]\n"
     ]
    },
    {
     "data": {
      "text/plain": [
       "(<Figure size 576x432 with 1 Axes>,\n",
       " <matplotlib.axes._subplots.AxesSubplot at 0x1092fd9b0>)"
      ]
     },
     "execution_count": 7,
     "metadata": {},
     "output_type": "execute_result"
    },
    {
     "data": {
      "image/png": "[encoded data removed]",
      "text/plain": [
       "<Figure size 576x432 with 1 Axes>"
      ]
     },
     "metadata": {
      "needs_background": "light"
     },
     "output_type": "display_data"
    }
   ],
   "source": [
    "chunks = chunk_samples(lipl_samples, thr=50)\n",
    "plot_chunks(chunks)"
   ]
  },
  {
   "cell_type": "markdown",
   "metadata": {},
   "source": [
    "## visualization of stimulations"
   ]
  },
  {
   "cell_type": "code",
   "execution_count": 8,
   "metadata": {},
   "outputs": [
    {
     "data": {
      "text/plain": [
       "array(['R_DLPFC', 'R_Occ', 'L_DLPFC', 'L_IPL', 'V1_M1', 'V1_M1_2',\n",
       "       'V1_M1_3', 'c_Occ', 'c_R_DLPFC_fpcn', 'I_Def', 'c_Def', 'c_DAN',\n",
       "       'I_DAN', 'V2_M1_1', 'V2_M1_2', 'ICA_DAN', 'ICA_Def', 'V4_M1_1',\n",
       "       'V4_M1_2', 'V5_M1_1', 'C-R_DLPFC_V5', 'V1_M1_1', 'V6_M1_2',\n",
       "       'V6_M1_3'], dtype=object)"
      ]
     },
     "execution_count": 8,
     "metadata": {},
     "output_type": "execute_result"
    }
   ],
   "source": [
    "targets.get_name()"
   ]
  },
  {
   "cell_type": "code",
   "execution_count": 9,
   "metadata": {},
   "outputs": [],
   "source": [
    "fstargets = targets.to_freesurfer_coords()\n",
    "names_to_plot = ['c_Def','c_DAN','L_DLPFC','L_IPL','V1_M1_3']\n",
    "\n",
    "### subseting targets based on name \n",
    "fstargets_to_plot = fstargets.subset('name',names_to_plot)"
   ]
  },
  {
   "cell_type": "code",
   "execution_count": 11,
   "metadata": {},
   "outputs": [
    {
     "name": "stdout",
     "output_type": "stream",
     "text": [
      "head model exists!\n"
     ]
    }
   ],
   "source": [
    "p = plotting_points(fstargets_to_plot,hemi='both',surf='white',\n",
    "                show_roi=True,show_name=True,scale_factor=1,name_scale=4,\n",
    "                opacity=1,annot='Yeo2011_7Networks_N1000',show_directions=True)\n",
    "p.brain.save_imageset('sample_',views=['dor','med','lat'])\n",
    "p.show()"
   ]
  },
  {
   "cell_type": "markdown",
   "metadata": {},
   "source": [
    "![title](sample__dor.png)"
   ]
  },
  {
   "cell_type": "code",
   "execution_count": null,
   "metadata": {},
   "outputs": [],
   "source": []
  }
 ],
 "metadata": {
  "hide_input": false,
  "kernelspec": {
   "display_name": "Python 3",
   "language": "python",
   "name": "python3"
  },
  "language_info": {
   "codemirror_mode": {
    "name": "ipython",
    "version": 3
   },
   "file_extension": ".py",
   "mimetype": "text/x-python",
   "name": "python",
   "nbconvert_exporter": "python",
   "pygments_lexer": "ipython3",
   "version": "3.6.9"
  },
  "latex_envs": {
   "LaTeX_envs_menu_present": true,
   "autoclose": false,
   "autocomplete": true,
   "bibliofile": "biblio.bib",
   "cite_by": "apalike",
   "current_citInitial": 1,
   "eqLabelWithNumbers": true,
   "eqNumInitial": 1,
   "hotkeys": {
    "equation": "Ctrl-E",
    "itemize": "Ctrl-I"
   },
   "labels_anchors": false,
   "latex_user_defs": false,
   "report_style_numbering": false,
   "user_envs_cfg": false
  },
  "toc": {
   "base_numbering": 1,
   "nav_menu": {},
   "number_sections": true,
   "sideBar": true,
   "skip_h1_title": false,
   "title_cell": "Table of Contents",
   "title_sidebar": "Contents",
   "toc_cell": false,
   "toc_position": {},
   "toc_section_display": true,
   "toc_window_display": true
  }
 },
 "nbformat": 4,
 "nbformat_minor": 4
}
