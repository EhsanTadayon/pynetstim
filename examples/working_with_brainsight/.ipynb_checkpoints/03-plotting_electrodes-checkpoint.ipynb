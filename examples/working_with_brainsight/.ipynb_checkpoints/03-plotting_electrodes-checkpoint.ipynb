{
 "cells": [
  {
   "cell_type": "markdown",
   "metadata": {},
   "source": [
    "### plotting_electrodes"
   ]
  },
  {
   "cell_type": "code",
   "execution_count": 5,
   "metadata": {},
   "outputs": [],
   "source": [
    "from pynetstim.brainsight import BrainsightProject\n",
    "from pynetstim.plotting import plotting_points\n",
    "import os"
   ]
  },
  {
   "cell_type": "code",
   "execution_count": 9,
   "metadata": {},
   "outputs": [],
   "source": [
    "subject = 'example_subject'\n",
    "project_dir = os.path.abspath('./pynetstim_output/')\n",
    "freesurfer_dir = os.path.abspath('./data/example_data/freesurfer')\n",
    "brainsight_file = os.path.abspath('./data/example_data/brainsight_raw/brainsight.txt')\n"
   ]
  },
  {
   "cell_type": "code",
   "execution_count": 10,
   "metadata": {},
   "outputs": [
    {
     "name": "stdout",
     "output_type": "stream",
     "text": [
      "Target\n",
      "Sample\n",
      "Electrode\n",
      "Planned\n",
      "Session\n"
     ]
    }
   ],
   "source": [
    "bsp = BrainsightProject(subject,brainsight_file,project_dir,freesurfer_dir=freesurfer_dir)"
   ]
  },
  {
   "cell_type": "code",
   "execution_count": 25,
   "metadata": {},
   "outputs": [
    {
     "data": {
      "text/html": [
       "<div>\n",
       "<style scoped>\n",
       "    .dataframe tbody tr th:only-of-type {\n",
       "        vertical-align: middle;\n",
       "    }\n",
       "\n",
       "    .dataframe tbody tr th {\n",
       "        vertical-align: top;\n",
       "    }\n",
       "\n",
       "    .dataframe thead th {\n",
       "        text-align: right;\n",
       "    }\n",
       "</style>\n",
       "<table border=\"1\" class=\"dataframe\">\n",
       "  <thead>\n",
       "    <tr style=\"text-align: right;\">\n",
       "      <th></th>\n",
       "      <th>electrode_name</th>\n",
       "      <th>electrode_type</th>\n",
       "      <th>session_name</th>\n",
       "      <th>loc_x</th>\n",
       "      <th>loc_y</th>\n",
       "      <th>loc_z</th>\n",
       "      <th>m0n0</th>\n",
       "      <th>m0n1</th>\n",
       "      <th>m0n2</th>\n",
       "      <th>m1n0</th>\n",
       "      <th>m1n1</th>\n",
       "      <th>m1n2</th>\n",
       "      <th>m2n0</th>\n",
       "      <th>m2n1</th>\n",
       "      <th>m2n2</th>\n",
       "    </tr>\n",
       "  </thead>\n",
       "  <tbody>\n",
       "    <tr>\n",
       "      <th>0</th>\n",
       "      <td>FidNz</td>\n",
       "      <td>Nasion</td>\n",
       "      <td>TMS_V1</td>\n",
       "      <td>7.968</td>\n",
       "      <td>88.474</td>\n",
       "      <td>-22.388</td>\n",
       "      <td>-0.713</td>\n",
       "      <td>0.693</td>\n",
       "      <td>-0.104</td>\n",
       "      <td>-0.646</td>\n",
       "      <td>-0.592</td>\n",
       "      <td>0.483</td>\n",
       "      <td>0.273</td>\n",
       "      <td>0.411</td>\n",
       "      <td>0.870</td>\n",
       "    </tr>\n",
       "    <tr>\n",
       "      <th>1</th>\n",
       "      <td>FidT9</td>\n",
       "      <td>LPA</td>\n",
       "      <td>TMS_V1</td>\n",
       "      <td>-77.206</td>\n",
       "      <td>-0.589</td>\n",
       "      <td>0.654</td>\n",
       "      <td>0.122</td>\n",
       "      <td>-0.779</td>\n",
       "      <td>0.615</td>\n",
       "      <td>-0.348</td>\n",
       "      <td>0.547</td>\n",
       "      <td>0.761</td>\n",
       "      <td>-0.930</td>\n",
       "      <td>-0.307</td>\n",
       "      <td>-0.204</td>\n",
       "    </tr>\n",
       "    <tr>\n",
       "      <th>2</th>\n",
       "      <td>FidT10</td>\n",
       "      <td>RPA</td>\n",
       "      <td>TMS_V1</td>\n",
       "      <td>72.656</td>\n",
       "      <td>-9.098</td>\n",
       "      <td>-15.346</td>\n",
       "      <td>0.762</td>\n",
       "      <td>0.515</td>\n",
       "      <td>0.392</td>\n",
       "      <td>-0.350</td>\n",
       "      <td>-0.181</td>\n",
       "      <td>0.919</td>\n",
       "      <td>0.544</td>\n",
       "      <td>-0.838</td>\n",
       "      <td>0.043</td>\n",
       "    </tr>\n",
       "    <tr>\n",
       "      <th>3</th>\n",
       "      <td>Gnd</td>\n",
       "      <td>EEG</td>\n",
       "      <td>TMS_V1</td>\n",
       "      <td>13.593</td>\n",
       "      <td>110.253</td>\n",
       "      <td>12.654</td>\n",
       "      <td>-0.624</td>\n",
       "      <td>0.134</td>\n",
       "      <td>-0.770</td>\n",
       "      <td>-0.765</td>\n",
       "      <td>0.095</td>\n",
       "      <td>0.637</td>\n",
       "      <td>0.158</td>\n",
       "      <td>0.986</td>\n",
       "      <td>0.044</td>\n",
       "    </tr>\n",
       "    <tr>\n",
       "      <th>4</th>\n",
       "      <td>3</td>\n",
       "      <td>EEG</td>\n",
       "      <td>TMS_V1</td>\n",
       "      <td>17.343</td>\n",
       "      <td>100.661</td>\n",
       "      <td>46.737</td>\n",
       "      <td>-0.791</td>\n",
       "      <td>0.443</td>\n",
       "      <td>-0.422</td>\n",
       "      <td>-0.556</td>\n",
       "      <td>-0.231</td>\n",
       "      <td>0.798</td>\n",
       "      <td>0.256</td>\n",
       "      <td>0.866</td>\n",
       "      <td>0.429</td>\n",
       "    </tr>\n",
       "  </tbody>\n",
       "</table>\n",
       "</div>"
      ],
      "text/plain": [
       "  electrode_name electrode_type session_name   loc_x    loc_y   loc_z   m0n0  \\\n",
       "0          FidNz         Nasion       TMS_V1   7.968   88.474 -22.388 -0.713   \n",
       "1          FidT9            LPA       TMS_V1 -77.206   -0.589   0.654  0.122   \n",
       "2         FidT10            RPA       TMS_V1  72.656   -9.098 -15.346  0.762   \n",
       "3            Gnd            EEG       TMS_V1  13.593  110.253  12.654 -0.624   \n",
       "4              3            EEG       TMS_V1  17.343  100.661  46.737 -0.791   \n",
       "\n",
       "    m0n1   m0n2   m1n0   m1n1   m1n2   m2n0   m2n1   m2n2  \n",
       "0  0.693 -0.104 -0.646 -0.592  0.483  0.273  0.411  0.870  \n",
       "1 -0.779  0.615 -0.348  0.547  0.761 -0.930 -0.307 -0.204  \n",
       "2  0.515  0.392 -0.350 -0.181  0.919  0.544 -0.838  0.043  \n",
       "3  0.134 -0.770 -0.765  0.095  0.637  0.158  0.986  0.044  \n",
       "4  0.443 -0.422 -0.556 -0.231  0.798  0.256  0.866  0.429  "
      ]
     },
     "execution_count": 25,
     "metadata": {},
     "output_type": "execute_result"
    }
   ],
   "source": [
    "electrodes = bsp.brainsight_electrodes\n",
    "electrodes._df.head()\n"
   ]
  },
  {
   "cell_type": "code",
   "execution_count": 26,
   "metadata": {},
   "outputs": [
    {
     "name": "stderr",
     "output_type": "stream",
     "text": [
      "/Users/ehsantadayon/anaconda2/envs/py3.6/lib/python3.6/site-packages/pynetstim/coordinates.py:262: UserWarning: Could not determine hemiphere for point -0.469,-70.90100000000001,63.653999999999996. Right hemiphere has been chosen arbitrarily for this point.\n",
      "                 Manually set the hemiphere for this point by calling set_hemi_manually!\n",
      "  warnings.warn(w)\n"
     ]
    }
   ],
   "source": [
    "electrodes_v1_fs = electrodes.to_freesurfer_coords('TMS_V1')"
   ]
  },
  {
   "cell_type": "code",
   "execution_count": 27,
   "metadata": {},
   "outputs": [
    {
     "name": "stdout",
     "output_type": "stream",
     "text": [
      "head model exists!\n"
     ]
    }
   ],
   "source": [
    "p = plotting_points(electrodes_v1_fs, show_name=True, name_scale=4)\n",
    "p.show()"
   ]
  },
  {
   "cell_type": "code",
   "execution_count": null,
   "metadata": {},
   "outputs": [],
   "source": []
  }
 ],
 "metadata": {
  "kernelspec": {
   "display_name": "Python 3",
   "language": "python",
   "name": "python3"
  },
  "language_info": {
   "codemirror_mode": {
    "name": "ipython",
    "version": 3
   },
   "file_extension": ".py",
   "mimetype": "text/x-python",
   "name": "python",
   "nbconvert_exporter": "python",
   "pygments_lexer": "ipython3",
   "version": "3.6.9"
  }
 },
 "nbformat": 4,
 "nbformat_minor": 2
}
